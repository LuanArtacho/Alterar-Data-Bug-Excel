{
 "cells": [
  {
   "cell_type": "code",
   "execution_count": 1,
   "id": "eeadc954",
   "metadata": {},
   "outputs": [
    {
     "name": "stdout",
     "output_type": "stream",
     "text": [
      "Requirement already satisfied: pandas in c:\\programdata\\anaconda3\\lib\\site-packages (1.5.3)\n",
      "Requirement already satisfied: pytz>=2020.1 in c:\\programdata\\anaconda3\\lib\\site-packages (from pandas) (2022.7)\n",
      "Requirement already satisfied: python-dateutil>=2.8.1 in c:\\programdata\\anaconda3\\lib\\site-packages (from pandas) (2.8.2)\n",
      "Requirement already satisfied: numpy>=1.21.0 in c:\\programdata\\anaconda3\\lib\\site-packages (from pandas) (1.23.5)\n",
      "Requirement already satisfied: six>=1.5 in c:\\programdata\\anaconda3\\lib\\site-packages (from python-dateutil>=2.8.1->pandas) (1.16.0)\n"
     ]
    }
   ],
   "source": [
    "!pip install pandas"
   ]
  },
  {
   "cell_type": "markdown",
   "id": "6a73fdcd",
   "metadata": {},
   "source": [
    "### Codigo que converte datas do excel bugadas para formato date time, e assim jogando um filtro, convertendo para Data"
   ]
  },
  {
   "cell_type": "code",
   "execution_count": null,
   "id": "669c3abb",
   "metadata": {},
   "outputs": [],
   "source": []
  },
  {
   "cell_type": "code",
   "execution_count": 6,
   "id": "78edbbcf",
   "metadata": {},
   "outputs": [
    {
     "name": "stdout",
     "output_type": "stream",
     "text": [
      "   deal_data  deal_data_dividida\n",
      "0 2023-12-03             45261.0\n",
      "1 2022-02-11             44601.0\n",
      "2 2019-09-07             43713.0\n",
      "3 2021-08-23             44429.0\n",
      "4 2022-04-26             44675.0\n",
      "5 2023-05-16             45060.0\n"
     ]
    },
    {
     "name": "stderr",
     "output_type": "stream",
     "text": [
      "C:\\Users\\luanzera\\AppData\\Local\\Temp\\ipykernel_4916\\3096391888.py:7: UserWarning: Parsing dates in DD/MM/YYYY format when dayfirst=False (the default) was specified. This may lead to inconsistently parsed dates! Specify a format to ensure consistent parsing.\n",
      "  df['deal_data'] = pd.to_datetime(df['deal_data'], errors='coerce')\n"
     ]
    }
   ],
   "source": [
    "import pandas as pd\n",
    "\n",
    "# Leitura do arquivo Excel\n",
    "df = pd.read_excel('trocar-datas.xlsx')\n",
    "\n",
    "# Converte a coluna 'deal_data' para o tipo datetime\n",
    "df['deal_data'] = pd.to_datetime(df['deal_data'], errors='coerce')\n",
    "\n",
    "# Calcula a diferença em dias\n",
    "df['deal_data_dividida'] = df['deal_data'].sub(pd.Timestamp('1900-01-01')).dt.total_seconds() / (24 * 60 * 60)\n",
    "\n",
    "# Imprime o resultado\n",
    "print(df)\n"
   ]
  },
  {
   "cell_type": "code",
   "execution_count": null,
   "id": "bc63a506",
   "metadata": {},
   "outputs": [],
   "source": []
  },
  {
   "cell_type": "code",
   "execution_count": 10,
   "id": "37d4847c",
   "metadata": {
    "scrolled": true
   },
   "outputs": [
    {
     "name": "stderr",
     "output_type": "stream",
     "text": [
      "C:\\Users\\luanzera\\AppData\\Local\\Temp\\ipykernel_4916\\3530122135.py:7: UserWarning: Parsing dates in DD/MM/YYYY format when dayfirst=False (the default) was specified. This may lead to inconsistently parsed dates! Specify a format to ensure consistent parsing.\n",
      "  df['deal_data'] = pd.to_datetime(df['deal_data'], errors='coerce')\n"
     ]
    }
   ],
   "source": [
    "import pandas as pd\n",
    "\n",
    "# Leitura do arquivo Excel\n",
    "df = pd.read_excel('trocar-datas.xlsx')\n",
    "\n",
    "# Converte a coluna 'deal_data' para o tipo datetime\n",
    "df['deal_data'] = pd.to_datetime(df['deal_data'], errors='coerce')\n",
    "\n",
    "# Calcula a diferença em dias\n",
    "df['deal_data_dividida'] = df['deal_data'].sub(pd.Timestamp('1900-01-01')).dt.total_seconds() / (24 * 60 * 60)\n",
    "\n",
    "# Converte a coluna 'deal_data_dividida' de volta para o tipo de dados de data\n",
    "df['deal_data_dividida'] = pd.to_datetime(df['deal_data_dividida'], unit='D', origin='1900-01-01')\n",
    "\n",
    "# Remove o horário da coluna 'deal_data_dividida' e mantém apenas a data\n",
    "df['deal_data_dividida'] = df['deal_data_dividida'].dt.date\n",
    "\n",
    "# Salva o DataFrame atualizado no arquivo Excel\n",
    "df.to_excel('trocar-datas_atualizado.xlsx', index=False)\n"
   ]
  },
  {
   "cell_type": "code",
   "execution_count": null,
   "id": "c58b81a5",
   "metadata": {},
   "outputs": [],
   "source": []
  },
  {
   "cell_type": "code",
   "execution_count": 11,
   "id": "201068d7",
   "metadata": {},
   "outputs": [
    {
     "name": "stderr",
     "output_type": "stream",
     "text": [
      "C:\\Users\\luanzera\\AppData\\Local\\Temp\\ipykernel_4916\\673942080.py:8: UserWarning: Parsing dates in DD/MM/YYYY format when dayfirst=False (the default) was specified. This may lead to inconsistently parsed dates! Specify a format to ensure consistent parsing.\n",
      "  df['deal_data'] = pd.to_datetime(df['deal_data'], errors='coerce')\n",
      "C:\\Users\\luanzera\\AppData\\Local\\Temp\\ipykernel_4916\\673942080.py:22: FutureWarning: Setting the `book` attribute is not part of the public API, usage can give unexpected or corrupted results and will be removed in a future version\n",
      "  writer.book = book\n",
      "C:\\Users\\luanzera\\AppData\\Local\\Temp\\ipykernel_4916\\673942080.py:28: FutureWarning: save is not part of the public API, usage can give unexpected results and will be removed in a future version\n",
      "  writer.save()\n"
     ]
    }
   ],
   "source": [
    "import pandas as pd\n",
    "from openpyxl import load_workbook\n",
    "\n",
    "# Leitura do arquivo Excel\n",
    "df = pd.read_excel('trocar-datas.xlsx')\n",
    "\n",
    "# Converte a coluna 'deal_data' para o tipo datetime\n",
    "df['deal_data'] = pd.to_datetime(df['deal_data'], errors='coerce')\n",
    "\n",
    "# Calcula a diferença em dias\n",
    "df['deal_data_dividida'] = df['deal_data'].sub(pd.Timestamp('1900-01-01')).dt.total_seconds() / (24 * 60 * 60)\n",
    "\n",
    "# Converte a coluna 'deal_data_dividida' de volta para o tipo de dados de data\n",
    "df['deal_data_dividida'] = pd.to_datetime(df['deal_data_dividida'], unit='D', origin='1900-01-01')\n",
    "\n",
    "# Remove o horário da coluna 'deal_data_dividida' e mantém apenas a data\n",
    "df['deal_data_dividida'] = df['deal_data_dividida'].dt.date\n",
    "\n",
    "# Carrega o arquivo Excel com o pandas\n",
    "book = load_workbook('trocar-datas.xlsx')\n",
    "writer = pd.ExcelWriter('trocar-datas.xlsx', engine='openpyxl')\n",
    "writer.book = book\n",
    "\n",
    "# Adiciona o DataFrame atualizado como uma nova planilha no arquivo Excel\n",
    "df.to_excel(writer, sheet_name='Sheet1', index=False)\n",
    "\n",
    "# Salva as alterações no arquivo Excel\n",
    "writer.save()\n"
   ]
  },
  {
   "cell_type": "code",
   "execution_count": null,
   "id": "47a3f96e",
   "metadata": {},
   "outputs": [],
   "source": []
  }
 ],
 "metadata": {
  "kernelspec": {
   "display_name": "Python 3 (ipykernel)",
   "language": "python",
   "name": "python3"
  },
  "language_info": {
   "codemirror_mode": {
    "name": "ipython",
    "version": 3
   },
   "file_extension": ".py",
   "mimetype": "text/x-python",
   "name": "python",
   "nbconvert_exporter": "python",
   "pygments_lexer": "ipython3",
   "version": "3.10.9"
  }
 },
 "nbformat": 4,
 "nbformat_minor": 5
}
